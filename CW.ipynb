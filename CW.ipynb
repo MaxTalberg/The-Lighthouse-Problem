{
 "cells": [
  {
   "cell_type": "code",
   "execution_count": 1,
   "metadata": {},
   "outputs": [],
   "source": [
    "import numpy as np\n",
    "import matplotlib.pyplot as plt\n",
    "from src.plotsiii import plotiii1, plotiii2"
   ]
  },
  {
   "cell_type": "code",
   "execution_count": 2,
   "metadata": {},
   "outputs": [],
   "source": [
    "# set seed\n",
    "np.random.seed(120420)"
   ]
  },
  {
   "cell_type": "markdown",
   "metadata": {},
   "source": [
    "### Tensorflow HMC "
   ]
  },
  {
   "cell_type": "code",
   "execution_count": 3,
   "metadata": {},
   "outputs": [
    {
     "name": "stdout",
     "output_type": "stream",
     "text": [
      "/Users/maxtalberg/miniconda3/envs/S2-env/lib/python3.8/site-packages/tensorflow/__init__.py\n"
     ]
    }
   ],
   "source": [
    "import tensorflow as tf\n",
    "print(tf.__file__)\n"
   ]
  },
  {
   "cell_type": "code",
   "execution_count": 4,
   "metadata": {},
   "outputs": [],
   "source": [
    "import time\n",
    "import tensorflow as tf\n",
    "import tensorflow_probability as tfp"
   ]
  },
  {
   "cell_type": "code",
   "execution_count": 5,
   "metadata": {},
   "outputs": [],
   "source": [
    "# set seed\n",
    "np.random.seed(120420)\n",
    "\n",
    "# target PDF function compatible with tensorflow\n",
    "def target_pdf(x, alpha, beta):\n",
    "    # prior varaibles\n",
    "    a = -10\n",
    "    b = 10\n",
    "    c = 10\n",
    "    likelihood = tfp.distributions.Cauchy(loc=alpha, scale=beta)\n",
    "    prior = tfp.distributions.Uniform(low=[a,0], high=[b,c])\n",
    "    return likelihood.prob(x) * prior.prob(x)"
   ]
  },
  {
   "cell_type": "code",
   "execution_count": 6,
   "metadata": {},
   "outputs": [
    {
     "ename": "TypeError",
     "evalue": "in user code:\n\n    File \"/var/folders/2g/9t7c77957pl9vb9x2t79vs2c0000gn/T/ipykernel_79316/1877366467.py\", line 10, in run_chain  *\n        return tfp.mcmc.sample_chain(\n    File \"/Users/maxtalberg/miniconda3/envs/S2-env/lib/python3.8/site-packages/tensorflow_probability/python/mcmc/sample.py\", line 333, in sample_chain  **\n        previous_kernel_results = kernel.bootstrap_results(current_state)\n    File \"/Users/maxtalberg/miniconda3/envs/S2-env/lib/python3.8/site-packages/tensorflow_probability/python/mcmc/hmc.py\", line 565, in bootstrap_results\n        kernel_results = self._impl.bootstrap_results(init_state)\n    File \"/Users/maxtalberg/miniconda3/envs/S2-env/lib/python3.8/site-packages/tensorflow_probability/python/mcmc/metropolis_hastings.py\", line 277, in bootstrap_results\n        pkr = self.inner_kernel.bootstrap_results(init_state)\n    File \"/Users/maxtalberg/miniconda3/envs/S2-env/lib/python3.8/site-packages/tensorflow_probability/python/mcmc/hmc.py\", line 779, in bootstrap_results\n        ] = mcmc_util.maybe_call_fn_and_grads(self.target_log_prob_fn, init_state)\n    File \"/Users/maxtalberg/miniconda3/envs/S2-env/lib/python3.8/site-packages/tensorflow_probability/python/mcmc/internal/util.py\", line 305, in maybe_call_fn_and_grads\n        result, grads = _value_and_gradients(fn, fn_arg_list, result, grads)\n    File \"/Users/maxtalberg/miniconda3/envs/S2-env/lib/python3.8/site-packages/tensorflow_probability/python/mcmc/internal/util.py\", line 273, in _value_and_gradients\n        return tfp_math_value_and_gradients(fn, fn_arg_list)\n    File \"/Users/maxtalberg/miniconda3/envs/S2-env/lib/python3.8/site-packages/tensorflow_probability/python/math/gradient.py\", line 112, in value_and_gradient\n        return _value_and_grad_impl(\n    File \"/Users/maxtalberg/miniconda3/envs/S2-env/lib/python3.8/site-packages/tensorflow_probability/python/math/gradient.py\", line 382, in _value_and_grad_impl\n        y, dydx, aux = grad_fn(lambda: f(*args, **kwargs) if _has_args(f) else f(),\n    File \"/Users/maxtalberg/miniconda3/envs/S2-env/lib/python3.8/site-packages/tensorflow_probability/python/math/gradient.py\", line 334, in _gradient_old\n        y, aux = f()\n    File \"/Users/maxtalberg/miniconda3/envs/S2-env/lib/python3.8/site-packages/tensorflow_probability/python/math/gradient.py\", line 382, in <lambda>\n        y, dydx, aux = grad_fn(lambda: f(*args, **kwargs) if _has_args(f) else f(),\n    File \"/Users/maxtalberg/miniconda3/envs/S2-env/lib/python3.8/site-packages/tensorflow_probability/python/math/gradient.py\", line 379, in <lambda>\n        f = lambda *args, **kwargs: (real_f(*args, **kwargs)  # pylint: disable=g-long-lambda\n\n    TypeError: target_pdf() missing 2 required positional arguments: 'alpha' and 'beta'\n",
     "output_type": "error",
     "traceback": [
      "\u001b[0;31m---------------------------------------------------------------------------\u001b[0m",
      "\u001b[0;31mTypeError\u001b[0m                                 Traceback (most recent call last)",
      "Cell \u001b[0;32mIn[6], line 21\u001b[0m\n\u001b[1;32m     18\u001b[0m initial_state \u001b[38;5;241m=\u001b[39m np\u001b[38;5;241m.\u001b[39mrandom\u001b[38;5;241m.\u001b[39mnormal(size\u001b[38;5;241m=\u001b[39m(num_chains, ndim))\n\u001b[1;32m     20\u001b[0m t_start \u001b[38;5;241m=\u001b[39m time\u001b[38;5;241m.\u001b[39mtime()\n\u001b[0;32m---> 21\u001b[0m chains, kernel_results \u001b[38;5;241m=\u001b[39m \u001b[43mrun_chain\u001b[49m\u001b[43m(\u001b[49m\u001b[43minitial_state\u001b[49m\u001b[43m)\u001b[49m\n\u001b[1;32m     22\u001b[0m t_end \u001b[38;5;241m=\u001b[39m time\u001b[38;5;241m.\u001b[39mtime()\n",
      "File \u001b[0;32m~/miniconda3/envs/S2-env/lib/python3.8/site-packages/tensorflow/python/util/traceback_utils.py:153\u001b[0m, in \u001b[0;36mfilter_traceback.<locals>.error_handler\u001b[0;34m(*args, **kwargs)\u001b[0m\n\u001b[1;32m    151\u001b[0m \u001b[38;5;28;01mexcept\u001b[39;00m \u001b[38;5;167;01mException\u001b[39;00m \u001b[38;5;28;01mas\u001b[39;00m e:\n\u001b[1;32m    152\u001b[0m   filtered_tb \u001b[38;5;241m=\u001b[39m _process_traceback_frames(e\u001b[38;5;241m.\u001b[39m__traceback__)\n\u001b[0;32m--> 153\u001b[0m   \u001b[38;5;28;01mraise\u001b[39;00m e\u001b[38;5;241m.\u001b[39mwith_traceback(filtered_tb) \u001b[38;5;28;01mfrom\u001b[39;00m \u001b[38;5;28;01mNone\u001b[39;00m\n\u001b[1;32m    154\u001b[0m \u001b[38;5;28;01mfinally\u001b[39;00m:\n\u001b[1;32m    155\u001b[0m   \u001b[38;5;28;01mdel\u001b[39;00m filtered_tb\n",
      "File \u001b[0;32m/var/folders/2g/9t7c77957pl9vb9x2t79vs2c0000gn/T/__autograph_generated_fileree38od6.py:12\u001b[0m, in \u001b[0;36mouter_factory.<locals>.inner_factory.<locals>.tf__run_chain\u001b[0;34m(initial_state, num_results, num_burnin_steps)\u001b[0m\n\u001b[1;32m     10\u001b[0m \u001b[38;5;28;01mtry\u001b[39;00m:\n\u001b[1;32m     11\u001b[0m     do_return \u001b[38;5;241m=\u001b[39m \u001b[38;5;28;01mTrue\u001b[39;00m\n\u001b[0;32m---> 12\u001b[0m     retval_ \u001b[38;5;241m=\u001b[39m ag__\u001b[38;5;241m.\u001b[39mconverted_call(ag__\u001b[38;5;241m.\u001b[39mld(tfp)\u001b[38;5;241m.\u001b[39mmcmc\u001b[38;5;241m.\u001b[39msample_chain, (), \u001b[38;5;28mdict\u001b[39m(num_results\u001b[38;5;241m=\u001b[39mag__\u001b[38;5;241m.\u001b[39mld(num_results), num_burnin_steps\u001b[38;5;241m=\u001b[39mag__\u001b[38;5;241m.\u001b[39mld(num_burnin_steps), current_state\u001b[38;5;241m=\u001b[39mag__\u001b[38;5;241m.\u001b[39mld(initial_state), kernel\u001b[38;5;241m=\u001b[39mag__\u001b[38;5;241m.\u001b[39mld(hmc_kernel), trace_fn\u001b[38;5;241m=\u001b[39mag__\u001b[38;5;241m.\u001b[39mautograph_artifact((\u001b[38;5;28;01mlambda\u001b[39;00m current_state, kernel_results: ag__\u001b[38;5;241m.\u001b[39mld(kernel_results)))), fscope)\n\u001b[1;32m     13\u001b[0m \u001b[38;5;28;01mexcept\u001b[39;00m:\n\u001b[1;32m     14\u001b[0m     do_return \u001b[38;5;241m=\u001b[39m \u001b[38;5;28;01mFalse\u001b[39;00m\n",
      "File \u001b[0;32m~/miniconda3/envs/S2-env/lib/python3.8/site-packages/tensorflow_probability/python/mcmc/sample.py:333\u001b[0m, in \u001b[0;36msample_chain\u001b[0;34m(num_results, current_state, previous_kernel_results, kernel, num_burnin_steps, num_steps_between_results, trace_fn, return_final_kernel_results, parallel_iterations, seed, name)\u001b[0m\n\u001b[1;32m    329\u001b[0m current_state \u001b[38;5;241m=\u001b[39m tf\u001b[38;5;241m.\u001b[39mnest\u001b[38;5;241m.\u001b[39mmap_structure(\n\u001b[1;32m    330\u001b[0m     \u001b[38;5;28;01mlambda\u001b[39;00m x: tf\u001b[38;5;241m.\u001b[39mconvert_to_tensor(x, name\u001b[38;5;241m=\u001b[39m\u001b[38;5;124m'\u001b[39m\u001b[38;5;124mcurrent_state\u001b[39m\u001b[38;5;124m'\u001b[39m),\n\u001b[1;32m    331\u001b[0m     current_state)\n\u001b[1;32m    332\u001b[0m \u001b[38;5;28;01mif\u001b[39;00m previous_kernel_results \u001b[38;5;129;01mis\u001b[39;00m \u001b[38;5;28;01mNone\u001b[39;00m:\n\u001b[0;32m--> 333\u001b[0m   previous_kernel_results \u001b[38;5;241m=\u001b[39m kernel\u001b[38;5;241m.\u001b[39mbootstrap_results(current_state)\n\u001b[1;32m    335\u001b[0m \u001b[38;5;28;01mif\u001b[39;00m trace_fn \u001b[38;5;129;01mis\u001b[39;00m \u001b[38;5;28;01mNone\u001b[39;00m:\n\u001b[1;32m    336\u001b[0m   \u001b[38;5;66;03m# It simplifies the logic to use a dummy function here.\u001b[39;00m\n\u001b[1;32m    337\u001b[0m   trace_fn \u001b[38;5;241m=\u001b[39m \u001b[38;5;28;01mlambda\u001b[39;00m \u001b[38;5;241m*\u001b[39margs: ()\n",
      "File \u001b[0;32m~/miniconda3/envs/S2-env/lib/python3.8/site-packages/tensorflow_probability/python/mcmc/hmc.py:565\u001b[0m, in \u001b[0;36mHamiltonianMonteCarlo.bootstrap_results\u001b[0;34m(self, init_state)\u001b[0m\n\u001b[1;32m    563\u001b[0m \u001b[38;5;28;01mdef\u001b[39;00m \u001b[38;5;21mbootstrap_results\u001b[39m(\u001b[38;5;28mself\u001b[39m, init_state):\n\u001b[1;32m    564\u001b[0m \u001b[38;5;250m  \u001b[39m\u001b[38;5;124;03m\"\"\"Creates initial `previous_kernel_results` using a supplied `state`.\"\"\"\u001b[39;00m\n\u001b[0;32m--> 565\u001b[0m   kernel_results \u001b[38;5;241m=\u001b[39m \u001b[38;5;28;43mself\u001b[39;49m\u001b[38;5;241;43m.\u001b[39;49m\u001b[43m_impl\u001b[49m\u001b[38;5;241;43m.\u001b[39;49m\u001b[43mbootstrap_results\u001b[49m\u001b[43m(\u001b[49m\u001b[43minit_state\u001b[49m\u001b[43m)\u001b[49m\n\u001b[1;32m    566\u001b[0m   \u001b[38;5;28;01mif\u001b[39;00m \u001b[38;5;28mself\u001b[39m\u001b[38;5;241m.\u001b[39mstep_size_update_fn \u001b[38;5;129;01mis\u001b[39;00m \u001b[38;5;129;01mnot\u001b[39;00m \u001b[38;5;28;01mNone\u001b[39;00m:\n\u001b[1;32m    567\u001b[0m     step_size_assign \u001b[38;5;241m=\u001b[39m \u001b[38;5;28mself\u001b[39m\u001b[38;5;241m.\u001b[39mstep_size_update_fn(\u001b[38;5;28mself\u001b[39m\u001b[38;5;241m.\u001b[39mstep_size, \u001b[38;5;28;01mNone\u001b[39;00m)  \u001b[38;5;66;03m# pylint: disable=not-callable\u001b[39;00m\n",
      "File \u001b[0;32m~/miniconda3/envs/S2-env/lib/python3.8/site-packages/tensorflow_probability/python/mcmc/metropolis_hastings.py:277\u001b[0m, in \u001b[0;36mMetropolisHastings.bootstrap_results\u001b[0;34m(self, init_state)\u001b[0m\n\u001b[1;32m    261\u001b[0m \u001b[38;5;250m\u001b[39m\u001b[38;5;124;03m\"\"\"Returns an object with the same type as returned by `one_step`.\u001b[39;00m\n\u001b[1;32m    262\u001b[0m \n\u001b[1;32m    263\u001b[0m \u001b[38;5;124;03mArgs:\u001b[39;00m\n\u001b[0;32m   (...)\u001b[0m\n\u001b[1;32m    273\u001b[0m \u001b[38;5;124;03m    \"target_log_prob\".\u001b[39;00m\n\u001b[1;32m    274\u001b[0m \u001b[38;5;124;03m\"\"\"\u001b[39;00m\n\u001b[1;32m    275\u001b[0m \u001b[38;5;28;01mwith\u001b[39;00m tf\u001b[38;5;241m.\u001b[39mname_scope(mcmc_util\u001b[38;5;241m.\u001b[39mmake_name(\n\u001b[1;32m    276\u001b[0m     \u001b[38;5;28mself\u001b[39m\u001b[38;5;241m.\u001b[39mname, \u001b[38;5;124m'\u001b[39m\u001b[38;5;124mmh\u001b[39m\u001b[38;5;124m'\u001b[39m, \u001b[38;5;124m'\u001b[39m\u001b[38;5;124mbootstrap_results\u001b[39m\u001b[38;5;124m'\u001b[39m)):\n\u001b[0;32m--> 277\u001b[0m   pkr \u001b[38;5;241m=\u001b[39m \u001b[38;5;28mself\u001b[39m\u001b[38;5;241m.\u001b[39minner_kernel\u001b[38;5;241m.\u001b[39mbootstrap_results(init_state)\n\u001b[1;32m    278\u001b[0m   \u001b[38;5;28;01mif\u001b[39;00m \u001b[38;5;129;01mnot\u001b[39;00m has_target_log_prob(pkr):\n\u001b[1;32m    279\u001b[0m     \u001b[38;5;28;01mraise\u001b[39;00m \u001b[38;5;167;01mValueError\u001b[39;00m(\n\u001b[1;32m    280\u001b[0m         \u001b[38;5;124m'\u001b[39m\u001b[38;5;124m\"\u001b[39m\u001b[38;5;124mtarget_log_prob\u001b[39m\u001b[38;5;124m\"\u001b[39m\u001b[38;5;124m must be a member of `inner_kernel` results.\u001b[39m\u001b[38;5;124m'\u001b[39m)\n",
      "File \u001b[0;32m~/miniconda3/envs/S2-env/lib/python3.8/site-packages/tensorflow_probability/python/mcmc/hmc.py:779\u001b[0m, in \u001b[0;36mUncalibratedHamiltonianMonteCarlo.bootstrap_results\u001b[0;34m(self, init_state)\u001b[0m\n\u001b[1;32m    774\u001b[0m \u001b[38;5;28;01mif\u001b[39;00m \u001b[38;5;28mself\u001b[39m\u001b[38;5;241m.\u001b[39mstate_gradients_are_stopped:\n\u001b[1;32m    775\u001b[0m   init_state \u001b[38;5;241m=\u001b[39m [tf\u001b[38;5;241m.\u001b[39mstop_gradient(x) \u001b[38;5;28;01mfor\u001b[39;00m x \u001b[38;5;129;01min\u001b[39;00m init_state]\n\u001b[1;32m    776\u001b[0m [\n\u001b[1;32m    777\u001b[0m     init_target_log_prob,\n\u001b[1;32m    778\u001b[0m     init_grads_target_log_prob,\n\u001b[0;32m--> 779\u001b[0m ] \u001b[38;5;241m=\u001b[39m mcmc_util\u001b[38;5;241m.\u001b[39mmaybe_call_fn_and_grads(\u001b[38;5;28mself\u001b[39m\u001b[38;5;241m.\u001b[39mtarget_log_prob_fn, init_state)\n\u001b[1;32m    780\u001b[0m result \u001b[38;5;241m=\u001b[39m UncalibratedHamiltonianMonteCarloKernelResults(\n\u001b[1;32m    781\u001b[0m     log_acceptance_correction\u001b[38;5;241m=\u001b[39mtf\u001b[38;5;241m.\u001b[39mzeros_like(init_target_log_prob),\n\u001b[1;32m    782\u001b[0m     target_log_prob\u001b[38;5;241m=\u001b[39minit_target_log_prob,\n\u001b[0;32m   (...)\u001b[0m\n\u001b[1;32m    788\u001b[0m     \u001b[38;5;66;03m# Allow room for one_step's seed.\u001b[39;00m\n\u001b[1;32m    789\u001b[0m     seed\u001b[38;5;241m=\u001b[39msamplers\u001b[38;5;241m.\u001b[39mzeros_seed())\n\u001b[1;32m    790\u001b[0m \u001b[38;5;28;01mif\u001b[39;00m \u001b[38;5;28mself\u001b[39m\u001b[38;5;241m.\u001b[39m_store_parameters_in_results:\n",
      "File \u001b[0;32m~/miniconda3/envs/S2-env/lib/python3.8/site-packages/tensorflow_probability/python/mcmc/internal/util.py:305\u001b[0m, in \u001b[0;36mmaybe_call_fn_and_grads\u001b[0;34m(fn, fn_arg_list, result, grads, check_non_none_grads, name)\u001b[0m\n\u001b[1;32m    302\u001b[0m \u001b[38;5;28;01mwith\u001b[39;00m tf\u001b[38;5;241m.\u001b[39mname_scope(name \u001b[38;5;129;01mor\u001b[39;00m \u001b[38;5;124m'\u001b[39m\u001b[38;5;124mmaybe_call_fn_and_grads\u001b[39m\u001b[38;5;124m'\u001b[39m):\n\u001b[1;32m    303\u001b[0m   fn_arg_list \u001b[38;5;241m=\u001b[39m (\u001b[38;5;28mlist\u001b[39m(fn_arg_list) \u001b[38;5;28;01mif\u001b[39;00m is_list_like(fn_arg_list)\n\u001b[1;32m    304\u001b[0m                  \u001b[38;5;28;01melse\u001b[39;00m [fn_arg_list])\n\u001b[0;32m--> 305\u001b[0m   result, grads \u001b[38;5;241m=\u001b[39m _value_and_gradients(fn, fn_arg_list, result, grads)\n\u001b[1;32m    306\u001b[0m   \u001b[38;5;28;01mif\u001b[39;00m \u001b[38;5;129;01mnot\u001b[39;00m \u001b[38;5;28mall\u001b[39m(dtype_util\u001b[38;5;241m.\u001b[39mis_floating(r\u001b[38;5;241m.\u001b[39mdtype)\n\u001b[1;32m    307\u001b[0m              \u001b[38;5;28;01mfor\u001b[39;00m r \u001b[38;5;129;01min\u001b[39;00m (result \u001b[38;5;28;01mif\u001b[39;00m is_list_like(result) \u001b[38;5;28;01melse\u001b[39;00m [result])):  \u001b[38;5;66;03m# pylint: disable=superfluous-parens\u001b[39;00m\n\u001b[1;32m    308\u001b[0m     \u001b[38;5;28;01mraise\u001b[39;00m \u001b[38;5;167;01mTypeError\u001b[39;00m(\u001b[38;5;124m'\u001b[39m\u001b[38;5;124mFunction result must be a `Tensor` with `float` \u001b[39m\u001b[38;5;124m'\u001b[39m\n\u001b[1;32m    309\u001b[0m                     \u001b[38;5;124m'\u001b[39m\u001b[38;5;124m`dtype`.\u001b[39m\u001b[38;5;124m'\u001b[39m)\n",
      "File \u001b[0;32m~/miniconda3/envs/S2-env/lib/python3.8/site-packages/tensorflow_probability/python/mcmc/internal/util.py:273\u001b[0m, in \u001b[0;36m_value_and_gradients\u001b[0;34m(fn, fn_arg_list, result, grads, name)\u001b[0m\n\u001b[1;32m    266\u001b[0m fn_arg_list \u001b[38;5;241m=\u001b[39m _convert_to_tensor(fn_arg_list, \u001b[38;5;124m'\u001b[39m\u001b[38;5;124mfn_arg\u001b[39m\u001b[38;5;124m'\u001b[39m)\n\u001b[1;32m    268\u001b[0m \u001b[38;5;28;01mif\u001b[39;00m result \u001b[38;5;129;01mis\u001b[39;00m \u001b[38;5;28;01mNone\u001b[39;00m \u001b[38;5;129;01mand\u001b[39;00m grads \u001b[38;5;129;01mis\u001b[39;00m \u001b[38;5;28;01mNone\u001b[39;00m \u001b[38;5;129;01mand\u001b[39;00m (JAX_MODE \u001b[38;5;129;01mor\u001b[39;00m\n\u001b[1;32m    269\u001b[0m                                          \u001b[38;5;129;01mnot\u001b[39;00m tf\u001b[38;5;241m.\u001b[39mexecuting_eagerly()):\n\u001b[1;32m    270\u001b[0m   \u001b[38;5;66;03m# Currently, computing gradient is not working well with caching in\u001b[39;00m\n\u001b[1;32m    271\u001b[0m   \u001b[38;5;66;03m# tensorflow eager mode (see below), so we will handle that case\u001b[39;00m\n\u001b[1;32m    272\u001b[0m   \u001b[38;5;66;03m# separately.\u001b[39;00m\n\u001b[0;32m--> 273\u001b[0m   \u001b[38;5;28;01mreturn\u001b[39;00m tfp_math_value_and_gradients(fn, fn_arg_list)\n\u001b[1;32m    275\u001b[0m \u001b[38;5;28;01mif\u001b[39;00m result \u001b[38;5;129;01mis\u001b[39;00m \u001b[38;5;28;01mNone\u001b[39;00m:\n\u001b[1;32m    276\u001b[0m   result \u001b[38;5;241m=\u001b[39m fn(\u001b[38;5;241m*\u001b[39mfn_arg_list)\n",
      "File \u001b[0;32m~/miniconda3/envs/S2-env/lib/python3.8/site-packages/tensorflow_probability/python/math/gradient.py:112\u001b[0m, in \u001b[0;36mvalue_and_gradient\u001b[0;34m(f, output_gradients, use_gradient_tape, auto_unpack_single_arg, has_aux, name, *args, **kwargs)\u001b[0m\n\u001b[1;32m     40\u001b[0m \u001b[38;5;250m\u001b[39m\u001b[38;5;124;03m\"\"\"Computes `f(*args, **kwargs)` and its gradients wrt to `args`, `kwargs`.\u001b[39;00m\n\u001b[1;32m     41\u001b[0m \n\u001b[1;32m     42\u001b[0m \u001b[38;5;124;03mThe function `f` is invoked according to one of the following rules:\u001b[39;00m\n\u001b[0;32m   (...)\u001b[0m\n\u001b[1;32m    109\u001b[0m \u001b[38;5;124;03m    are the gradients of `y` with respect to each of `args` and `kwargs`.\u001b[39;00m\n\u001b[1;32m    110\u001b[0m \u001b[38;5;124;03m\"\"\"\u001b[39;00m\n\u001b[1;32m    111\u001b[0m \u001b[38;5;28;01mwith\u001b[39;00m tf\u001b[38;5;241m.\u001b[39mname_scope(name \u001b[38;5;129;01mor\u001b[39;00m \u001b[38;5;124m'\u001b[39m\u001b[38;5;124mvalue_and_gradient\u001b[39m\u001b[38;5;124m'\u001b[39m):\n\u001b[0;32m--> 112\u001b[0m   \u001b[38;5;28;01mreturn\u001b[39;00m _value_and_grad_impl(\n\u001b[1;32m    113\u001b[0m       f,\n\u001b[1;32m    114\u001b[0m       _gradient_new \u001b[38;5;28;01mif\u001b[39;00m tf\u001b[38;5;241m.\u001b[39mexecuting_eagerly() \u001b[38;5;129;01mor\u001b[39;00m use_gradient_tape \u001b[38;5;28;01melse\u001b[39;00m\n\u001b[1;32m    115\u001b[0m       _gradient_old,\n\u001b[1;32m    116\u001b[0m       \u001b[38;5;241m*\u001b[39margs,\n\u001b[1;32m    117\u001b[0m       output_gradients\u001b[38;5;241m=\u001b[39moutput_gradients,\n\u001b[1;32m    118\u001b[0m       auto_unpack_single_arg\u001b[38;5;241m=\u001b[39mauto_unpack_single_arg,\n\u001b[1;32m    119\u001b[0m       expand_tf_modules_as_trainable_vars\u001b[38;5;241m=\u001b[39m\u001b[38;5;28;01mFalse\u001b[39;00m,\n\u001b[1;32m    120\u001b[0m       has_aux\u001b[38;5;241m=\u001b[39mhas_aux,\n\u001b[1;32m    121\u001b[0m       \u001b[38;5;241m*\u001b[39m\u001b[38;5;241m*\u001b[39mkwargs)\n",
      "File \u001b[0;32m~/miniconda3/envs/S2-env/lib/python3.8/site-packages/tensorflow_probability/python/math/gradient.py:382\u001b[0m, in \u001b[0;36m_value_and_grad_impl\u001b[0;34m(f, grad_fn, output_gradients, auto_unpack_single_arg, expand_tf_modules_as_trainable_vars, has_aux, *args, **kwargs)\u001b[0m\n\u001b[1;32m    378\u001b[0m   real_f \u001b[38;5;241m=\u001b[39m f\n\u001b[1;32m    379\u001b[0m   f \u001b[38;5;241m=\u001b[39m \u001b[38;5;28;01mlambda\u001b[39;00m \u001b[38;5;241m*\u001b[39margs, \u001b[38;5;241m*\u001b[39m\u001b[38;5;241m*\u001b[39mkwargs: (real_f(\u001b[38;5;241m*\u001b[39margs, \u001b[38;5;241m*\u001b[39m\u001b[38;5;241m*\u001b[39mkwargs)  \u001b[38;5;66;03m# pylint: disable=g-long-lambda\u001b[39;00m\n\u001b[1;32m    380\u001b[0m                                \u001b[38;5;28;01mif\u001b[39;00m _has_args(real_f) \u001b[38;5;28;01melse\u001b[39;00m real_f(), ())\n\u001b[0;32m--> 382\u001b[0m y, dydx, aux \u001b[38;5;241m=\u001b[39m \u001b[43mgrad_fn\u001b[49m\u001b[43m(\u001b[49m\u001b[38;5;28;43;01mlambda\u001b[39;49;00m\u001b[43m:\u001b[49m\u001b[43m \u001b[49m\u001b[43mf\u001b[49m\u001b[43m(\u001b[49m\u001b[38;5;241;43m*\u001b[39;49m\u001b[43margs\u001b[49m\u001b[43m,\u001b[49m\u001b[43m \u001b[49m\u001b[38;5;241;43m*\u001b[39;49m\u001b[38;5;241;43m*\u001b[39;49m\u001b[43mkwargs\u001b[49m\u001b[43m)\u001b[49m\u001b[43m \u001b[49m\u001b[38;5;28;43;01mif\u001b[39;49;00m\u001b[43m \u001b[49m\u001b[43m_has_args\u001b[49m\u001b[43m(\u001b[49m\u001b[43mf\u001b[49m\u001b[43m)\u001b[49m\u001b[43m \u001b[49m\u001b[38;5;28;43;01melse\u001b[39;49;00m\u001b[43m \u001b[49m\u001b[43mf\u001b[49m\u001b[43m(\u001b[49m\u001b[43m)\u001b[49m\u001b[43m,\u001b[49m\n\u001b[1;32m    383\u001b[0m \u001b[43m                       \u001b[49m\u001b[43mtf\u001b[49m\u001b[38;5;241;43m.\u001b[39;49m\u001b[43mnest\u001b[49m\u001b[38;5;241;43m.\u001b[39;49m\u001b[43mflatten\u001b[49m\u001b[43m(\u001b[49m\u001b[43m[\u001b[49m\u001b[43mexpand_args\u001b[49m\u001b[43m,\u001b[49m\u001b[43m \u001b[49m\u001b[43mexpand_kwargs\u001b[49m\u001b[43m]\u001b[49m\u001b[43m)\u001b[49m\u001b[43m,\u001b[49m\n\u001b[1;32m    384\u001b[0m \u001b[43m                       \u001b[49m\u001b[43moutput_gradients\u001b[49m\u001b[43m)\u001b[49m\n\u001b[1;32m    385\u001b[0m dydx_args, dydx_kwargs \u001b[38;5;241m=\u001b[39m tf\u001b[38;5;241m.\u001b[39mnest\u001b[38;5;241m.\u001b[39mpack_sequence_as(\n\u001b[1;32m    386\u001b[0m     [expand_args, expand_kwargs], dydx)\n\u001b[1;32m    387\u001b[0m \u001b[38;5;28;01mif\u001b[39;00m \u001b[38;5;28mlen\u001b[39m(args) \u001b[38;5;241m==\u001b[39m \u001b[38;5;241m1\u001b[39m \u001b[38;5;129;01mand\u001b[39;00m \u001b[38;5;129;01mnot\u001b[39;00m do_unpack:\n",
      "File \u001b[0;32m~/miniconda3/envs/S2-env/lib/python3.8/site-packages/tensorflow_probability/python/math/gradient.py:334\u001b[0m, in \u001b[0;36m_gradient_old\u001b[0;34m(f, xs, grad_ys)\u001b[0m\n\u001b[1;32m    332\u001b[0m \u001b[38;5;28;01mdef\u001b[39;00m \u001b[38;5;21m_gradient_old\u001b[39m(f, xs, grad_ys):\n\u001b[1;32m    333\u001b[0m   \u001b[38;5;28;01massert\u001b[39;00m \u001b[38;5;129;01mnot\u001b[39;00m tf\u001b[38;5;241m.\u001b[39mexecuting_eagerly()\n\u001b[0;32m--> 334\u001b[0m   y, aux \u001b[38;5;241m=\u001b[39m \u001b[43mf\u001b[49m\u001b[43m(\u001b[49m\u001b[43m)\u001b[49m\n\u001b[1;32m    335\u001b[0m   \u001b[38;5;28;01mreturn\u001b[39;00m y, tf\u001b[38;5;241m.\u001b[39mgradients(y, xs, grad_ys\u001b[38;5;241m=\u001b[39mgrad_ys), aux\n",
      "File \u001b[0;32m~/miniconda3/envs/S2-env/lib/python3.8/site-packages/tensorflow_probability/python/math/gradient.py:382\u001b[0m, in \u001b[0;36m_value_and_grad_impl.<locals>.<lambda>\u001b[0;34m()\u001b[0m\n\u001b[1;32m    378\u001b[0m   real_f \u001b[38;5;241m=\u001b[39m f\n\u001b[1;32m    379\u001b[0m   f \u001b[38;5;241m=\u001b[39m \u001b[38;5;28;01mlambda\u001b[39;00m \u001b[38;5;241m*\u001b[39margs, \u001b[38;5;241m*\u001b[39m\u001b[38;5;241m*\u001b[39mkwargs: (real_f(\u001b[38;5;241m*\u001b[39margs, \u001b[38;5;241m*\u001b[39m\u001b[38;5;241m*\u001b[39mkwargs)  \u001b[38;5;66;03m# pylint: disable=g-long-lambda\u001b[39;00m\n\u001b[1;32m    380\u001b[0m                                \u001b[38;5;28;01mif\u001b[39;00m _has_args(real_f) \u001b[38;5;28;01melse\u001b[39;00m real_f(), ())\n\u001b[0;32m--> 382\u001b[0m y, dydx, aux \u001b[38;5;241m=\u001b[39m grad_fn(\u001b[38;5;28;01mlambda\u001b[39;00m: \u001b[43mf\u001b[49m\u001b[43m(\u001b[49m\u001b[38;5;241;43m*\u001b[39;49m\u001b[43margs\u001b[49m\u001b[43m,\u001b[49m\u001b[43m \u001b[49m\u001b[38;5;241;43m*\u001b[39;49m\u001b[38;5;241;43m*\u001b[39;49m\u001b[43mkwargs\u001b[49m\u001b[43m)\u001b[49m \u001b[38;5;28;01mif\u001b[39;00m _has_args(f) \u001b[38;5;28;01melse\u001b[39;00m f(),\n\u001b[1;32m    383\u001b[0m                        tf\u001b[38;5;241m.\u001b[39mnest\u001b[38;5;241m.\u001b[39mflatten([expand_args, expand_kwargs]),\n\u001b[1;32m    384\u001b[0m                        output_gradients)\n\u001b[1;32m    385\u001b[0m dydx_args, dydx_kwargs \u001b[38;5;241m=\u001b[39m tf\u001b[38;5;241m.\u001b[39mnest\u001b[38;5;241m.\u001b[39mpack_sequence_as(\n\u001b[1;32m    386\u001b[0m     [expand_args, expand_kwargs], dydx)\n\u001b[1;32m    387\u001b[0m \u001b[38;5;28;01mif\u001b[39;00m \u001b[38;5;28mlen\u001b[39m(args) \u001b[38;5;241m==\u001b[39m \u001b[38;5;241m1\u001b[39m \u001b[38;5;129;01mand\u001b[39;00m \u001b[38;5;129;01mnot\u001b[39;00m do_unpack:\n",
      "File \u001b[0;32m~/miniconda3/envs/S2-env/lib/python3.8/site-packages/tensorflow_probability/python/math/gradient.py:379\u001b[0m, in \u001b[0;36m_value_and_grad_impl.<locals>.<lambda>\u001b[0;34m(*args, **kwargs)\u001b[0m\n\u001b[1;32m    377\u001b[0m \u001b[38;5;28;01mif\u001b[39;00m \u001b[38;5;129;01mnot\u001b[39;00m has_aux:\n\u001b[1;32m    378\u001b[0m   real_f \u001b[38;5;241m=\u001b[39m f\n\u001b[0;32m--> 379\u001b[0m   f \u001b[38;5;241m=\u001b[39m \u001b[38;5;28;01mlambda\u001b[39;00m \u001b[38;5;241m*\u001b[39margs, \u001b[38;5;241m*\u001b[39m\u001b[38;5;241m*\u001b[39mkwargs: (\u001b[43mreal_f\u001b[49m\u001b[43m(\u001b[49m\u001b[38;5;241;43m*\u001b[39;49m\u001b[43margs\u001b[49m\u001b[43m,\u001b[49m\u001b[43m \u001b[49m\u001b[38;5;241;43m*\u001b[39;49m\u001b[38;5;241;43m*\u001b[39;49m\u001b[43mkwargs\u001b[49m\u001b[43m)\u001b[49m  \u001b[38;5;66;03m# pylint: disable=g-long-lambda\u001b[39;00m\n\u001b[1;32m    380\u001b[0m                                \u001b[38;5;28;01mif\u001b[39;00m _has_args(real_f) \u001b[38;5;28;01melse\u001b[39;00m real_f(), ())\n\u001b[1;32m    382\u001b[0m y, dydx, aux \u001b[38;5;241m=\u001b[39m grad_fn(\u001b[38;5;28;01mlambda\u001b[39;00m: f(\u001b[38;5;241m*\u001b[39margs, \u001b[38;5;241m*\u001b[39m\u001b[38;5;241m*\u001b[39mkwargs) \u001b[38;5;28;01mif\u001b[39;00m _has_args(f) \u001b[38;5;28;01melse\u001b[39;00m f(),\n\u001b[1;32m    383\u001b[0m                        tf\u001b[38;5;241m.\u001b[39mnest\u001b[38;5;241m.\u001b[39mflatten([expand_args, expand_kwargs]),\n\u001b[1;32m    384\u001b[0m                        output_gradients)\n\u001b[1;32m    385\u001b[0m dydx_args, dydx_kwargs \u001b[38;5;241m=\u001b[39m tf\u001b[38;5;241m.\u001b[39mnest\u001b[38;5;241m.\u001b[39mpack_sequence_as(\n\u001b[1;32m    386\u001b[0m     [expand_args, expand_kwargs], dydx)\n",
      "\u001b[0;31mTypeError\u001b[0m: in user code:\n\n    File \"/var/folders/2g/9t7c77957pl9vb9x2t79vs2c0000gn/T/ipykernel_79316/1877366467.py\", line 10, in run_chain  *\n        return tfp.mcmc.sample_chain(\n    File \"/Users/maxtalberg/miniconda3/envs/S2-env/lib/python3.8/site-packages/tensorflow_probability/python/mcmc/sample.py\", line 333, in sample_chain  **\n        previous_kernel_results = kernel.bootstrap_results(current_state)\n    File \"/Users/maxtalberg/miniconda3/envs/S2-env/lib/python3.8/site-packages/tensorflow_probability/python/mcmc/hmc.py\", line 565, in bootstrap_results\n        kernel_results = self._impl.bootstrap_results(init_state)\n    File \"/Users/maxtalberg/miniconda3/envs/S2-env/lib/python3.8/site-packages/tensorflow_probability/python/mcmc/metropolis_hastings.py\", line 277, in bootstrap_results\n        pkr = self.inner_kernel.bootstrap_results(init_state)\n    File \"/Users/maxtalberg/miniconda3/envs/S2-env/lib/python3.8/site-packages/tensorflow_probability/python/mcmc/hmc.py\", line 779, in bootstrap_results\n        ] = mcmc_util.maybe_call_fn_and_grads(self.target_log_prob_fn, init_state)\n    File \"/Users/maxtalberg/miniconda3/envs/S2-env/lib/python3.8/site-packages/tensorflow_probability/python/mcmc/internal/util.py\", line 305, in maybe_call_fn_and_grads\n        result, grads = _value_and_gradients(fn, fn_arg_list, result, grads)\n    File \"/Users/maxtalberg/miniconda3/envs/S2-env/lib/python3.8/site-packages/tensorflow_probability/python/mcmc/internal/util.py\", line 273, in _value_and_gradients\n        return tfp_math_value_and_gradients(fn, fn_arg_list)\n    File \"/Users/maxtalberg/miniconda3/envs/S2-env/lib/python3.8/site-packages/tensorflow_probability/python/math/gradient.py\", line 112, in value_and_gradient\n        return _value_and_grad_impl(\n    File \"/Users/maxtalberg/miniconda3/envs/S2-env/lib/python3.8/site-packages/tensorflow_probability/python/math/gradient.py\", line 382, in _value_and_grad_impl\n        y, dydx, aux = grad_fn(lambda: f(*args, **kwargs) if _has_args(f) else f(),\n    File \"/Users/maxtalberg/miniconda3/envs/S2-env/lib/python3.8/site-packages/tensorflow_probability/python/math/gradient.py\", line 334, in _gradient_old\n        y, aux = f()\n    File \"/Users/maxtalberg/miniconda3/envs/S2-env/lib/python3.8/site-packages/tensorflow_probability/python/math/gradient.py\", line 382, in <lambda>\n        y, dydx, aux = grad_fn(lambda: f(*args, **kwargs) if _has_args(f) else f(),\n    File \"/Users/maxtalberg/miniconda3/envs/S2-env/lib/python3.8/site-packages/tensorflow_probability/python/math/gradient.py\", line 379, in <lambda>\n        f = lambda *args, **kwargs: (real_f(*args, **kwargs)  # pylint: disable=g-long-lambda\n\n    TypeError: target_pdf() missing 2 required positional arguments: 'alpha' and 'beta'\n"
     ]
    }
   ],
   "source": [
    "# hmc kernel\n",
    "hmc_kernel = tfp.mcmc.HamiltonianMonteCarlo(\n",
    "  target_log_prob_fn=target_pdf,\n",
    "  step_size=np.float64(.01),\n",
    "  num_leapfrog_steps=200)\n",
    "\n",
    "# run hmc\n",
    "@tf.function\n",
    "def run_chain(initial_state, num_results=30000, num_burnin_steps=10):\n",
    "  return tfp.mcmc.sample_chain(\n",
    "                            num_results=num_results,\n",
    "                            num_burnin_steps=num_burnin_steps,\n",
    "                            current_state=initial_state,\n",
    "                            kernel=hmc_kernel,\n",
    "                            trace_fn=lambda current_state, kernel_results: kernel_results)\n",
    "\n",
    "num_chains, ndim = 8, 3\n",
    "initial_state = np.random.normal(size=(num_chains, ndim))\n",
    "\n",
    "t_start = time.time()\n",
    "chains, kernel_results = run_chain(initial_state)\n",
    "t_end = time.time()"
   ]
  },
  {
   "cell_type": "code",
   "execution_count": 8,
   "metadata": {},
   "outputs": [
    {
     "ename": "AttributeError",
     "evalue": "module 'tensorflow' has no attribute '__version__'",
     "output_type": "error",
     "traceback": [
      "\u001b[0;31m---------------------------------------------------------------------------\u001b[0m",
      "\u001b[0;31mAttributeError\u001b[0m                            Traceback (most recent call last)",
      "Cell \u001b[0;32mIn[8], line 2\u001b[0m\n\u001b[1;32m      1\u001b[0m \u001b[38;5;28;01mimport\u001b[39;00m \u001b[38;5;21;01mtensorflow\u001b[39;00m \u001b[38;5;28;01mas\u001b[39;00m \u001b[38;5;21;01mtf\u001b[39;00m\n\u001b[0;32m----> 2\u001b[0m \u001b[38;5;28mprint\u001b[39m(\u001b[43mtf\u001b[49m\u001b[38;5;241;43m.\u001b[39;49m\u001b[43m__version__\u001b[49m)\n",
      "\u001b[0;31mAttributeError\u001b[0m: module 'tensorflow' has no attribute '__version__'"
     ]
    }
   ],
   "source": [
    "import tensorflow as tf\n",
    "print(tf.__version__)\n"
   ]
  },
  {
   "cell_type": "code",
   "execution_count": 9,
   "metadata": {},
   "outputs": [
    {
     "ename": "AttributeError",
     "evalue": "'NoneType' object has no attribute 'loader'",
     "output_type": "error",
     "traceback": [
      "\u001b[0;31m---------------------------------------------------------------------------\u001b[0m",
      "\u001b[0;31mAttributeError\u001b[0m                            Traceback (most recent call last)",
      "Cell \u001b[0;32mIn[9], line 3\u001b[0m\n\u001b[1;32m      1\u001b[0m \u001b[38;5;28;01mimport\u001b[39;00m \u001b[38;5;21;01mimportlib\u001b[39;00m\u001b[38;5;21;01m.\u001b[39;00m\u001b[38;5;21;01mutil\u001b[39;00m\n\u001b[1;32m      2\u001b[0m spec \u001b[38;5;241m=\u001b[39m importlib\u001b[38;5;241m.\u001b[39mutil\u001b[38;5;241m.\u001b[39mspec_from_file_location(\u001b[38;5;124m\"\u001b[39m\u001b[38;5;124mtensorflow\u001b[39m\u001b[38;5;124m\"\u001b[39m, \u001b[38;5;124m\"\u001b[39m\u001b[38;5;124m/Users/maxtalberg/miniconda3/envs/S2-env/lib/python3.8/site-packages\u001b[39m\u001b[38;5;124m\"\u001b[39m)\n\u001b[0;32m----> 3\u001b[0m tf \u001b[38;5;241m=\u001b[39m \u001b[43mimportlib\u001b[49m\u001b[38;5;241;43m.\u001b[39;49m\u001b[43mutil\u001b[49m\u001b[38;5;241;43m.\u001b[39;49m\u001b[43mmodule_from_spec\u001b[49m\u001b[43m(\u001b[49m\u001b[43mspec\u001b[49m\u001b[43m)\u001b[49m\n\u001b[1;32m      4\u001b[0m spec\u001b[38;5;241m.\u001b[39mloader\u001b[38;5;241m.\u001b[39mexec_module(tf)\n\u001b[1;32m      5\u001b[0m \u001b[38;5;28mprint\u001b[39m(tf\u001b[38;5;241m.\u001b[39m\u001b[38;5;18m__file__\u001b[39m)\n",
      "File \u001b[0;32m<frozen importlib._bootstrap>:553\u001b[0m, in \u001b[0;36mmodule_from_spec\u001b[0;34m(spec)\u001b[0m\n",
      "\u001b[0;31mAttributeError\u001b[0m: 'NoneType' object has no attribute 'loader'"
     ]
    }
   ],
   "source": [
    "import importlib.util\n",
    "spec = importlib.util.spec_from_file_location(\"tensorflow\", \"/Users/maxtalberg/miniconda3/envs/S2-env/lib/python3.8/site-packages\")\n",
    "tf = importlib.util.module_from_spec(spec)\n",
    "spec.loader.exec_module(tf)\n",
    "print(tf.__file__)\n"
   ]
  },
  {
   "cell_type": "code",
   "execution_count": 1,
   "metadata": {},
   "outputs": [
    {
     "name": "stdout",
     "output_type": "stream",
     "text": [
      "2.12.0\n",
      "0.14.0\n"
     ]
    }
   ],
   "source": [
    "import tensorflow as tf\n",
    "print(tf.__version__)\n",
    "import tensorflow_probability as tfp\n",
    "print(tfp.__version__)\n"
   ]
  },
  {
   "cell_type": "code",
   "execution_count": null,
   "metadata": {},
   "outputs": [],
   "source": []
  }
 ],
 "metadata": {
  "kernelspec": {
   "display_name": "m2-env",
   "language": "python",
   "name": "python3"
  },
  "language_info": {
   "codemirror_mode": {
    "name": "ipython",
    "version": 3
   },
   "file_extension": ".py",
   "mimetype": "text/x-python",
   "name": "python",
   "nbconvert_exporter": "python",
   "pygments_lexer": "ipython3",
   "version": "3.8.18"
  }
 },
 "nbformat": 4,
 "nbformat_minor": 2
}
